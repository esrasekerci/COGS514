{
 "cells": [
  {
   "cell_type": "markdown",
   "metadata": {},
   "source": [
    "# Assignment 2\n",
    "\n",
    "Please enter your **name, surname** and **student number** instead of `\"NAME-HERE\"`, `\"SURNAME-HERE\"`, `\"NUMBER-HERE\"` below"
   ]
  },
  {
   "cell_type": "code",
   "execution_count": 1,
   "metadata": {},
   "outputs": [
    {
     "name": "stdout",
     "output_type": "stream",
     "text": [
      "{'name': 'Esra', 'surname': 'Sekerci', 'studentNumber': '2698215'}\n"
     ]
    }
   ],
   "source": [
    "student = {\n",
    "    'name' : \"Esra\" ,\n",
    "    'surname' : \"Sekerci\", \n",
    "    'studentNumber' : \"2698215\"\n",
    "}\n",
    "\n",
    "print(student)"
   ]
  },
  {
   "cell_type": "markdown",
   "metadata": {},
   "source": [
    "## Average perceptron [25]\n",
    "\n",
    "We have already seen the perceptron algorithm for the binary classification problem. The pseudo code is below:\n",
    "\n",
    "Pseudo-code for the binary perceptron algorithm is shown below. (example code for this is available in tutorials)\n",
    "\n",
    "----\n",
    "\n",
    "- Start $\\boldsymbol{w}=0$\n",
    "- For each epoch $t = 0, 1, 2, \\dots, T$:\n",
    "  - For each example index $i \\in \\{1,\\dots,n\\}$ in random order:\n",
    "    - If: $y^{(i)} (\\pmb{w}^T \\pmb{x}^{(i)}) \\leq 0$\n",
    "        - $\\pmb{w}=\\pmb{w}+y^{(i)} \\boldsymbol{x}^{(i)}$\n",
    "    - Else:\n",
    "        - $\\pmb{w}=\\pmb{w}$\n",
    "- return $\\pmb{w}$\n",
    "\n",
    "----\n",
    "\n",
    "Perceptron is sensitive to the latest examples it sees. Average perceptron algorithm is a derivation of the perceptron that overcomes this problem. Average perceptron returns the average value of  $\\pmb{w}$ obtained in all iterations.\n",
    "\n",
    "-----\n",
    "\n",
    "- Start $\\boldsymbol{w}=0$,  $\\boldsymbol{w}_s=0$\n",
    "- For each epoch $t = 0, 1, 2, \\dots, T$:\n",
    "  - For each example index $i \\in \\{1,\\dots,n\\}$ in random order:\n",
    "    - If: $y^{(i)} (\\pmb{w}^T \\pmb{x}^{(i)}) \\leq 0$\n",
    "        - $\\pmb{w}=\\pmb{w}+y^{(i)} \\boldsymbol{x}^{(i)} $\n",
    "    - Else:\n",
    "        - $\\pmb{w}=\\pmb{w}$\n",
    "    - $\\pmb{w}_s = \\pmb{w}_s + \\pmb{w}$\n",
    "- return  $\\cfrac{\\pmb{w_s}}{(nT)}$\n",
    "\n",
    "-----\n",
    "\n",
    "1. Implement *average perceptron* algorithm\n",
    "\n",
    "2. Your labels on the IRIS dataset will be\n",
    "\n",
    "   $y = \\begin{cases} +1 & \\text{target = virginica} \\\\ -1 & \\text{target = setosa} \\end{cases}$\n",
    "\n",
    "   arrange the dataset accordingly. (example shown below)\n",
    "\n",
    "3. You will use all features in the IRIS dataset (note that in the tutorial we only used petal length and petal width, now you will use all of them.)\n",
    "\n",
    "4. Divide the dataset into training and test sets.\n",
    "\n",
    "5. Train both *perceptron* and *average perceptron* on the IRIS training dataset, and report both of their performance in terms of TPR (sensitivity) and TNR (specificity) on the test dataset. "
   ]
  },
  {
   "cell_type": "code",
   "execution_count": 2,
   "metadata": {},
   "outputs": [],
   "source": [
    "import numpy as np\n",
    "from sklearn import datasets\n",
    "from sklearn.model_selection import train_test_split\n",
    "from sklearn.linear_model import Perceptron\n",
    "from sklearn.metrics import make_scorer, accuracy_score\n",
    "from sklearn.pipeline import make_pipeline\n",
    "from sklearn.preprocessing import StandardScaler\n",
    "import matplotlib.pyplot as plt\n",
    "from sklearn.metrics import classification_report, confusion_matrix\n",
    "import matplotlib.lines as lines\n",
    "from sklearn.preprocessing import StandardScaler, OneHotEncoder\n",
    "from sklearn.compose import ColumnTransformer\n",
    "from sklearn.pipeline import Pipeline\n",
    "from sklearn.model_selection import cross_val_predict, KFold\n",
    "from sklearn.preprocessing import PolynomialFeatures"
   ]
  },
  {
   "cell_type": "code",
   "execution_count": 3,
   "metadata": {},
   "outputs": [
    {
     "data": {
      "text/plain": [
       "array([0, 0, 0, 0, 0, 0, 0, 0, 0, 0, 0, 0, 0, 0, 0, 0, 0, 0, 0, 0, 0, 0,\n",
       "       0, 0, 0, 0, 0, 0, 0, 0, 0, 0, 0, 0, 0, 0, 0, 0, 0, 0, 0, 0, 0, 0,\n",
       "       0, 0, 0, 0, 0, 0, 1, 1, 1, 1, 1, 1, 1, 1, 1, 1, 1, 1, 1, 1, 1, 1,\n",
       "       1, 1, 1, 1, 1, 1, 1, 1, 1, 1, 1, 1, 1, 1, 1, 1, 1, 1, 1, 1, 1, 1,\n",
       "       1, 1, 1, 1, 1, 1, 1, 1, 1, 1, 1, 1, 2, 2, 2, 2, 2, 2, 2, 2, 2, 2,\n",
       "       2, 2, 2, 2, 2, 2, 2, 2, 2, 2, 2, 2, 2, 2, 2, 2, 2, 2, 2, 2, 2, 2,\n",
       "       2, 2, 2, 2, 2, 2, 2, 2, 2, 2, 2, 2, 2, 2, 2, 2, 2, 2])"
      ]
     },
     "execution_count": 3,
     "metadata": {},
     "output_type": "execute_result"
    }
   ],
   "source": [
    "iris = datasets.load_iris()\n",
    "X = iris[\"data\"]  # All features\n",
    "y = iris[\"target\"]\n",
    "y"
   ]
  },
  {
   "cell_type": "code",
   "execution_count": 4,
   "metadata": {},
   "outputs": [],
   "source": [
    "# Select only setosa and virginica classes\n",
    "setosa_or_virginica = (y == 0) | (y == 2)\n",
    "X = X[setosa_or_virginica]\n",
    "y = y[setosa_or_virginica]\n",
    "\n",
    "y[y == 0] = -1 # Set label -1 for setosa class\n",
    "y[y == 2] = 1 # Set label +1 for virginica class"
   ]
  },
  {
   "cell_type": "code",
   "execution_count": 5,
   "metadata": {},
   "outputs": [
    {
     "data": {
      "text/plain": [
       "(150, 4)"
      ]
     },
     "execution_count": 5,
     "metadata": {},
     "output_type": "execute_result"
    }
   ],
   "source": [
    "iris[\"data\"].shape"
   ]
  },
  {
   "cell_type": "code",
   "execution_count": 6,
   "metadata": {},
   "outputs": [
    {
     "data": {
      "text/plain": [
       "array([[5.1, 3.5, 1.4, 0.2],\n",
       "       [4.9, 3. , 1.4, 0.2],\n",
       "       [4.7, 3.2, 1.3, 0.2],\n",
       "       [4.6, 3.1, 1.5, 0.2],\n",
       "       [5. , 3.6, 1.4, 0.2],\n",
       "       [5.4, 3.9, 1.7, 0.4],\n",
       "       [4.6, 3.4, 1.4, 0.3],\n",
       "       [5. , 3.4, 1.5, 0.2],\n",
       "       [4.4, 2.9, 1.4, 0.2],\n",
       "       [4.9, 3.1, 1.5, 0.1]])"
      ]
     },
     "execution_count": 6,
     "metadata": {},
     "output_type": "execute_result"
    }
   ],
   "source": [
    "iris[\"data\"][:10]"
   ]
  },
  {
   "cell_type": "code",
   "execution_count": 7,
   "metadata": {},
   "outputs": [
    {
     "data": {
      "text/plain": [
       "array([-1, -1, -1, -1, -1, -1, -1, -1, -1, -1, -1, -1, -1, -1, -1, -1, -1,\n",
       "       -1, -1, -1, -1, -1, -1, -1, -1, -1, -1, -1, -1, -1, -1, -1, -1, -1,\n",
       "       -1, -1, -1, -1, -1, -1, -1, -1, -1, -1, -1, -1, -1, -1, -1, -1,  1,\n",
       "        1,  1,  1,  1,  1,  1,  1,  1,  1,  1,  1,  1,  1,  1,  1,  1,  1,\n",
       "        1,  1,  1,  1,  1,  1,  1,  1,  1,  1,  1,  1,  1,  1,  1,  1,  1,\n",
       "        1,  1,  1,  1,  1,  1,  1,  1,  1,  1,  1,  1,  1,  1,  1])"
      ]
     },
     "execution_count": 7,
     "metadata": {},
     "output_type": "execute_result"
    }
   ],
   "source": [
    "y"
   ]
  },
  {
   "cell_type": "code",
   "execution_count": 8,
   "metadata": {},
   "outputs": [],
   "source": [
    "X_train, X_test, y_train, y_test = train_test_split(X,y,train_size=0.7, random_state=42)"
   ]
  },
  {
   "cell_type": "code",
   "execution_count": 9,
   "metadata": {},
   "outputs": [],
   "source": [
    "def perceptron(x,y, max_epochs = 100):\n",
    "    n = len(y) # Number of examples\n",
    "    d = x.shape[1] # Number of features\n",
    "    w = np.zeros(d) # Initial weights\n",
    "    for epoch in range(max_epochs):\n",
    "        rev = 0 # Keep track of number of weight revisions in an epoch\n",
    "        for i in np.random.permutation(n):\n",
    "            if y[i]*w.dot(x[i]) <= 0:\n",
    "                rev += 1\n",
    "                w = w + y[i]*x[i]\n",
    "        # If no revisions made in an epoch break\n",
    "        if rev == 0:\n",
    "            print(\"Complete in {} epochs: no weight revisions in epoch\".format(epoch+1))\n",
    "            return w\n",
    "    print(\"Complete in {} epochs: maximum number of epochs reached\".format(max_epochs))\n",
    "    return w"
   ]
  },
  {
   "cell_type": "code",
   "execution_count": 10,
   "metadata": {},
   "outputs": [
    {
     "name": "stdout",
     "output_type": "stream",
     "text": [
      "Complete in 2 epochs: no weight revisions in epoch\n",
      "Weights: [-1.6 -4.2  7.2  3.4]\n"
     ]
    }
   ],
   "source": [
    "perceptron_w = perceptron(X_train, y_train)\n",
    "print(\"Weights:\", perceptron_w)"
   ]
  },
  {
   "cell_type": "code",
   "execution_count": 11,
   "metadata": {},
   "outputs": [],
   "source": [
    "def performance(x,y,w):\n",
    "    h = np.sign(x.dot(w))\n",
    "    return np.mean(h == y)"
   ]
  },
  {
   "cell_type": "code",
   "execution_count": 12,
   "metadata": {},
   "outputs": [
    {
     "data": {
      "text/plain": [
       "1.0"
      ]
     },
     "execution_count": 12,
     "metadata": {},
     "output_type": "execute_result"
    }
   ],
   "source": [
    "performance(X_test, y_test, perceptron_w)"
   ]
  },
  {
   "cell_type": "code",
   "execution_count": 13,
   "metadata": {},
   "outputs": [],
   "source": [
    "predictions = np.sign(X_test.dot(perceptron_w))"
   ]
  },
  {
   "cell_type": "code",
   "execution_count": 14,
   "metadata": {},
   "outputs": [
    {
     "name": "stdout",
     "output_type": "stream",
     "text": [
      "True Positives (tp) 13\n",
      "False Positives (fp) 0\n",
      "False Negatives(fn) 0\n",
      "True Negatives (tn) 17\n"
     ]
    }
   ],
   "source": [
    "tn, fp, fn, tp = confusion_matrix(y_test, predictions).ravel()\n",
    "print(\"True Positives (tp)\",tp)\n",
    "print(\"False Positives (fp)\",fp)\n",
    "print(\"False Negatives(fn)\",fn)\n",
    "print(\"True Negatives (tn)\",tn)"
   ]
  },
  {
   "cell_type": "code",
   "execution_count": 15,
   "metadata": {},
   "outputs": [],
   "source": [
    "def average_perceptron(x, y, max_epochs=100):\n",
    "    n = len(y)\n",
    "    d = x.shape[1]  # Number of features\n",
    "    w = np.zeros(d)  # Initial weights\n",
    "    w_s = np.zeros(d)  # Sum of weights\n",
    "    for epoch in range(max_epochs):\n",
    "        rev = 0  # Keep track of number of weight revisions in an epoch\n",
    "        for i in np.random.permutation(n):\n",
    "            if y[i] * np.dot(w, x[i]) <= 0:\n",
    "                rev += 1\n",
    "                w += y[i] * x[i]\n",
    "        # Update the sum of weights\n",
    "        w_s += w\n",
    "        # If no revisions made in an epoch, break\n",
    "        if rev == 0:\n",
    "            print(\"Complete in {} epochs: no weight revisions in epoch\".format(epoch + 1))\n",
    "            return w_s / (n * (epoch + 1))\n",
    "    print(\"Complete in {} epochs: maximum number of epochs reached\".format(max_epochs))\n",
    "    return w_s / (n * max_epochs)"
   ]
  },
  {
   "cell_type": "code",
   "execution_count": 16,
   "metadata": {},
   "outputs": [
    {
     "name": "stdout",
     "output_type": "stream",
     "text": [
      "Complete in 2 epochs: no weight revisions in epoch\n",
      "[-0.02142857 -0.04428571  0.09571429  0.05142857]\n"
     ]
    }
   ],
   "source": [
    "avgperceptron_w = average_perceptron(X_train, y_train)\n",
    "print(avgperceptron_w)"
   ]
  },
  {
   "cell_type": "code",
   "execution_count": 17,
   "metadata": {},
   "outputs": [
    {
     "data": {
      "text/plain": [
       "1.0"
      ]
     },
     "execution_count": 17,
     "metadata": {},
     "output_type": "execute_result"
    }
   ],
   "source": [
    "performance(X_test, y_test, avgperceptron_w)"
   ]
  },
  {
   "cell_type": "code",
   "execution_count": 18,
   "metadata": {},
   "outputs": [],
   "source": [
    "predictions = np.sign(X_test.dot(avgperceptron_w))"
   ]
  },
  {
   "cell_type": "code",
   "execution_count": 19,
   "metadata": {},
   "outputs": [
    {
     "name": "stdout",
     "output_type": "stream",
     "text": [
      "True Positives (tp) 13\n",
      "False Positives (fp) 0\n",
      "False Negatives(fn) 0\n",
      "True Negatives (tn) 17\n"
     ]
    }
   ],
   "source": [
    "tn, fp, fn, tp = confusion_matrix(y_test, predictions).ravel()\n",
    "print(\"True Positives (tp)\",tp)\n",
    "print(\"False Positives (fp)\",fp)\n",
    "print(\"False Negatives(fn)\",fn)\n",
    "print(\"True Negatives (tn)\",tn)"
   ]
  },
  {
   "cell_type": "code",
   "execution_count": 20,
   "metadata": {},
   "outputs": [],
   "source": [
    "def tnr_tpr(X_test, y_test, weights):\n",
    "    tn, fp, fn, tp = confusion_matrix(y_test, np.sign(np.dot(X_test, weights))).ravel()\n",
    "    tnr = tn / (tn + fp)\n",
    "    tpr = tp / (tp + fn)\n",
    "    return tnr, tpr"
   ]
  },
  {
   "cell_type": "code",
   "execution_count": 21,
   "metadata": {},
   "outputs": [
    {
     "name": "stdout",
     "output_type": "stream",
     "text": [
      "TNR: 1.0\n",
      "TPR: 1.0\n"
     ]
    }
   ],
   "source": [
    "tnr, tpr = tnr_tpr(X_test, y_test, perceptron_w)\n",
    "print(\"TNR:\", tnr)\n",
    "print(\"TPR:\", tpr)"
   ]
  },
  {
   "cell_type": "code",
   "execution_count": 22,
   "metadata": {},
   "outputs": [
    {
     "name": "stdout",
     "output_type": "stream",
     "text": [
      "TNR: 1.0\n",
      "TPR: 1.0\n"
     ]
    }
   ],
   "source": [
    "tnr, tpr = tnr_tpr(X_test, y_test, avgperceptron_w)\n",
    "print(\"TNR:\", tnr)\n",
    "print(\"TPR:\", tpr)"
   ]
  },
  {
   "cell_type": "markdown",
   "metadata": {},
   "source": [
    "## Multiclass perceptron [25]\n",
    "\n",
    "A multiclass perceptron uses the same framework, but it can be used to predict any number of classes rather than just two. Suppose the labels $y$ in our dataset can take $m$ different values $ y \\in \\{l_1, \\dots, l_m\\}$. In this case the perceptron will have a weight vector for each possible label value $\\pmb{w}_{l_1}, \\dots, \\pmb{w}_{l_m}$, and the predicted class for a particular feature vector $\\pmb{x}$ will be the label of the weight vector that has maximum dot product with the feature vector i.e. $\\hat{y}=\\arg \\max_{l_{k}}(\\boldsymbol{w_{l_{k}}}^T \\boldsymbol{x})$. (Note that $\\hat{y}$ denotes the predicted label).\n",
    "\n",
    "The learning algorithm will be as follows, we will have a weight vector for each class label, and all of those label vectors will start with zero values. Then for each data point, it will check whether the predicted label is the same as the actual label, and if not, it will update the weights associated with the predicted label. Pseudo-code for multiclass perceptron is shown below:\n",
    "\n",
    "---\n",
    "\n",
    "- Start $\\pmb{w}_{l_k}=0$ for $k = 1, \\dots, m$\n",
    "- For each epoch $t = 0, 1, 2, \\dots$:\n",
    "  - For each example index $i \\in \\{1,\\dots,n\\}$ in random order:\n",
    "    - Compute the predicted label: $\\hat{y}^{(i)} = \\arg \\max_{l_{k}}(\\boldsymbol{w_{l_{k}}}^T \\boldsymbol{x}^{(i)})$\n",
    "    - If: $\\hat{y}^{(i)} \\neq y^{(i)} $\n",
    "        - $w_{y^{(i)}}:=w_{y^{(i)}}+ \\boldsymbol{x}^{(i)}$\n",
    "        - $ w_{\\hat{y}^{(i)}}:=w_{\\hat{y}^{(i)}}- \\boldsymbol{x}^{(i)}$\n",
    "- \n",
    "    - Else:\n",
    "        - $w_{y^{(i)}}:=w_{y^{(i)}}$\n",
    "\n",
    "---\n",
    "1. Implement multiclass perceptron algorithm\n",
    "2. Your labels on the IRIS dataset will be\n",
    "\n",
    "   $$y = \\begin{cases} 0 & \\text{target = setosa} \\\\ 1 & \\text{target = versicolor} \\\\ 2 & \\text{target = virginica}\\end{cases}$$\n",
    "\n",
    "   Note that the dataset you load from `sklearn` already has these labels. Again you will use all features\n",
    "\n",
    "3. Divide the dataset into training and test sets.\n",
    "4. Train *multiclass perceptron* and report its overall accuracy for all labels."
   ]
  },
  {
   "cell_type": "code",
   "execution_count": 23,
   "metadata": {},
   "outputs": [],
   "source": [
    "# Importing the dataset for multiclass perceptron\n",
    "from sklearn import datasets\n",
    "\n",
    "iris = datasets.load_iris()\n",
    "X = iris[\"data\"]\n",
    "y = iris[\"target\"]"
   ]
  },
  {
   "cell_type": "code",
   "execution_count": 24,
   "metadata": {},
   "outputs": [],
   "source": [
    "def multiclass_perceptron(X_train, y_train, num_classes, max_epochs=100):\n",
    "    num_features = X_train.shape[1]\n",
    "    # Initialize weight vectors for each class\n",
    "    weights = np.zeros((num_classes, num_features))\n",
    "    \n",
    "    for epoch in range(max_epochs):\n",
    "        for i in np.random.permutation(len(y_train)):\n",
    "            x_i = X_train[i]\n",
    "            y_i = y_train[i]\n",
    "            # Compute predicted label\n",
    "            y_hat = np.argmax(np.dot(weights, x_i))\n",
    "            \n",
    "            if y_hat != y_i:\n",
    "                # Update weights for the correct and predicted classes\n",
    "                weights[y_i] += x_i\n",
    "                weights[y_hat] -= x_i\n",
    "                \n",
    "    return weights"
   ]
  },
  {
   "cell_type": "code",
   "execution_count": 25,
   "metadata": {},
   "outputs": [],
   "source": [
    "X_train, X_test, y_train, y_test = train_test_split(X, y, test_size=0.3)"
   ]
  },
  {
   "cell_type": "code",
   "execution_count": 26,
   "metadata": {},
   "outputs": [],
   "source": [
    "num_classes = len(np.unique(y_train))"
   ]
  },
  {
   "cell_type": "code",
   "execution_count": 27,
   "metadata": {},
   "outputs": [],
   "source": [
    "weights = multiclass_perceptron(X_train, y_train, num_classes)"
   ]
  },
  {
   "cell_type": "code",
   "execution_count": 28,
   "metadata": {},
   "outputs": [],
   "source": [
    "def predict(X, weights):\n",
    "    return np.argmax(np.dot(X, weights.T), axis=1)"
   ]
  },
  {
   "cell_type": "code",
   "execution_count": 29,
   "metadata": {},
   "outputs": [
    {
     "name": "stdout",
     "output_type": "stream",
     "text": [
      "Overall Accuracy: 0.9777777777777777\n"
     ]
    }
   ],
   "source": [
    "y_pred = predict(X_test, weights)\n",
    "\n",
    "accuracy = np.mean(y_pred == y_test)\n",
    "print(\"Overall Accuracy:\", accuracy)"
   ]
  },
  {
   "cell_type": "markdown",
   "metadata": {},
   "source": [
    "## Features [30]\n",
    "\n",
    "Download and open the `auto-mpgm.csv` dataset. The dataset contains several different features about cars. The aim is to predict `mpg` the labels of which are $+1$ for fuel efficient cars and $-1$ is for cars with high mpg. Origin variable is 1 = USA, 2 = Europe, 3 = Asia. Other features are self explanatory. \n",
    "\n",
    "> 1. mpg binary\n",
    "> 2. cylinders discrete\n",
    "> 3. displacement continuous\n",
    "> 4. horsepower continuous\n",
    "> 5. weight continuous\n",
    "> 6. acceleration continuous\n",
    "> 7. model year discrete\n",
    "> 8. origin discrete\n",
    "\n",
    "1. How would you represent each feature shown above (except mpg which is the label)? Possible options include standardization, one-hot encoding, use them as they are, drop them. \n",
    "2. Apply the encoding and standardization to the feature you indicate in the previous question.\n",
    "3. Split the data into training and test sets. Use *perceptron* and *average perceptron* algorithms on the training data and report their performance in terms of TPR and TNR in the test data.\n",
    "4. Perform a 10-fold cross-validation on the data and report TPR and TNR.\n",
    "5. Try applying polynomial features and see how the performance changes. "
   ]
  },
  {
   "cell_type": "code",
   "execution_count": 30,
   "metadata": {},
   "outputs": [
    {
     "name": "stderr",
     "output_type": "stream",
     "text": [
      "C:\\Users\\ibrah\\AppData\\Local\\Temp\\ipykernel_17496\\1977961953.py:3: DeprecationWarning: \n",
      "Pyarrow will become a required dependency of pandas in the next major release of pandas (pandas 3.0),\n",
      "(to allow more performant data types, such as the Arrow string type, and better interoperability with other libraries)\n",
      "but was not found to be installed on your system.\n",
      "If this would cause problems for you,\n",
      "please provide us feedback at https://github.com/pandas-dev/pandas/issues/54466\n",
      "        \n",
      "  import pandas as pd\n"
     ]
    },
    {
     "data": {
      "text/html": [
       "<div>\n",
       "<style scoped>\n",
       "    .dataframe tbody tr th:only-of-type {\n",
       "        vertical-align: middle;\n",
       "    }\n",
       "\n",
       "    .dataframe tbody tr th {\n",
       "        vertical-align: top;\n",
       "    }\n",
       "\n",
       "    .dataframe thead th {\n",
       "        text-align: right;\n",
       "    }\n",
       "</style>\n",
       "<table border=\"1\" class=\"dataframe\">\n",
       "  <thead>\n",
       "    <tr style=\"text-align: right;\">\n",
       "      <th></th>\n",
       "      <th>mpg</th>\n",
       "      <th>cylinders</th>\n",
       "      <th>displacement</th>\n",
       "      <th>horsepower</th>\n",
       "      <th>weight</th>\n",
       "      <th>acceleration</th>\n",
       "      <th>model_year</th>\n",
       "      <th>origin</th>\n",
       "    </tr>\n",
       "  </thead>\n",
       "  <tbody>\n",
       "    <tr>\n",
       "      <th>0</th>\n",
       "      <td>-1.0</td>\n",
       "      <td>8.0</td>\n",
       "      <td>304.0</td>\n",
       "      <td>193.0</td>\n",
       "      <td>4732.0</td>\n",
       "      <td>18.5</td>\n",
       "      <td>70.0</td>\n",
       "      <td>1.0</td>\n",
       "    </tr>\n",
       "    <tr>\n",
       "      <th>1</th>\n",
       "      <td>-1.0</td>\n",
       "      <td>8.0</td>\n",
       "      <td>307.0</td>\n",
       "      <td>200.0</td>\n",
       "      <td>4376.0</td>\n",
       "      <td>15.0</td>\n",
       "      <td>70.0</td>\n",
       "      <td>1.0</td>\n",
       "    </tr>\n",
       "    <tr>\n",
       "      <th>2</th>\n",
       "      <td>-1.0</td>\n",
       "      <td>8.0</td>\n",
       "      <td>360.0</td>\n",
       "      <td>215.0</td>\n",
       "      <td>4615.0</td>\n",
       "      <td>14.0</td>\n",
       "      <td>70.0</td>\n",
       "      <td>1.0</td>\n",
       "    </tr>\n",
       "    <tr>\n",
       "      <th>3</th>\n",
       "      <td>-1.0</td>\n",
       "      <td>8.0</td>\n",
       "      <td>318.0</td>\n",
       "      <td>210.0</td>\n",
       "      <td>4382.0</td>\n",
       "      <td>13.5</td>\n",
       "      <td>70.0</td>\n",
       "      <td>1.0</td>\n",
       "    </tr>\n",
       "    <tr>\n",
       "      <th>4</th>\n",
       "      <td>-1.0</td>\n",
       "      <td>8.0</td>\n",
       "      <td>350.0</td>\n",
       "      <td>180.0</td>\n",
       "      <td>3664.0</td>\n",
       "      <td>11.0</td>\n",
       "      <td>73.0</td>\n",
       "      <td>1.0</td>\n",
       "    </tr>\n",
       "  </tbody>\n",
       "</table>\n",
       "</div>"
      ],
      "text/plain": [
       "   mpg  cylinders  displacement  horsepower  weight  acceleration  model_year  \\\n",
       "0 -1.0        8.0         304.0       193.0  4732.0          18.5        70.0   \n",
       "1 -1.0        8.0         307.0       200.0  4376.0          15.0        70.0   \n",
       "2 -1.0        8.0         360.0       215.0  4615.0          14.0        70.0   \n",
       "3 -1.0        8.0         318.0       210.0  4382.0          13.5        70.0   \n",
       "4 -1.0        8.0         350.0       180.0  3664.0          11.0        73.0   \n",
       "\n",
       "   origin  \n",
       "0     1.0  \n",
       "1     1.0  \n",
       "2     1.0  \n",
       "3     1.0  \n",
       "4     1.0  "
      ]
     },
     "execution_count": 30,
     "metadata": {},
     "output_type": "execute_result"
    }
   ],
   "source": [
    "# Opening auto dataset assuming that it is in the same folder as this notebook.\n",
    "# You can read it using pandas. \n",
    "import pandas as pd\n",
    "\n",
    "auto_pd = pd.read_csv('auto-mpgm.csv')\n",
    "auto_pd.head()"
   ]
  },
  {
   "cell_type": "code",
   "execution_count": 31,
   "metadata": {},
   "outputs": [
    {
     "data": {
      "text/html": [
       "<div>\n",
       "<style scoped>\n",
       "    .dataframe tbody tr th:only-of-type {\n",
       "        vertical-align: middle;\n",
       "    }\n",
       "\n",
       "    .dataframe tbody tr th {\n",
       "        vertical-align: top;\n",
       "    }\n",
       "\n",
       "    .dataframe thead th {\n",
       "        text-align: right;\n",
       "    }\n",
       "</style>\n",
       "<table border=\"1\" class=\"dataframe\">\n",
       "  <thead>\n",
       "    <tr style=\"text-align: right;\">\n",
       "      <th></th>\n",
       "      <th>mpg</th>\n",
       "      <th>cylinders</th>\n",
       "      <th>displacement</th>\n",
       "      <th>horsepower</th>\n",
       "      <th>weight</th>\n",
       "      <th>acceleration</th>\n",
       "      <th>model_year</th>\n",
       "      <th>origin</th>\n",
       "    </tr>\n",
       "  </thead>\n",
       "  <tbody>\n",
       "    <tr>\n",
       "      <th>count</th>\n",
       "      <td>392.000000</td>\n",
       "      <td>392.000000</td>\n",
       "      <td>392.000000</td>\n",
       "      <td>392.000000</td>\n",
       "      <td>392.000000</td>\n",
       "      <td>392.000000</td>\n",
       "      <td>392.000000</td>\n",
       "      <td>392.000000</td>\n",
       "    </tr>\n",
       "    <tr>\n",
       "      <th>mean</th>\n",
       "      <td>0.000000</td>\n",
       "      <td>5.471939</td>\n",
       "      <td>388.348214</td>\n",
       "      <td>509.354592</td>\n",
       "      <td>2977.584184</td>\n",
       "      <td>15.541327</td>\n",
       "      <td>75.979592</td>\n",
       "      <td>1.576531</td>\n",
       "    </tr>\n",
       "    <tr>\n",
       "      <th>std</th>\n",
       "      <td>1.001278</td>\n",
       "      <td>1.705783</td>\n",
       "      <td>302.431814</td>\n",
       "      <td>334.078508</td>\n",
       "      <td>849.402560</td>\n",
       "      <td>2.758864</td>\n",
       "      <td>3.683737</td>\n",
       "      <td>0.805518</td>\n",
       "    </tr>\n",
       "    <tr>\n",
       "      <th>min</th>\n",
       "      <td>-1.000000</td>\n",
       "      <td>3.000000</td>\n",
       "      <td>97.500000</td>\n",
       "      <td>100.000000</td>\n",
       "      <td>1613.000000</td>\n",
       "      <td>8.000000</td>\n",
       "      <td>70.000000</td>\n",
       "      <td>1.000000</td>\n",
       "    </tr>\n",
       "    <tr>\n",
       "      <th>25%</th>\n",
       "      <td>-1.000000</td>\n",
       "      <td>4.000000</td>\n",
       "      <td>145.750000</td>\n",
       "      <td>147.250000</td>\n",
       "      <td>2225.250000</td>\n",
       "      <td>13.775000</td>\n",
       "      <td>73.000000</td>\n",
       "      <td>1.000000</td>\n",
       "    </tr>\n",
       "    <tr>\n",
       "      <th>50%</th>\n",
       "      <td>0.000000</td>\n",
       "      <td>4.000000</td>\n",
       "      <td>260.000000</td>\n",
       "      <td>650.000000</td>\n",
       "      <td>2803.500000</td>\n",
       "      <td>15.500000</td>\n",
       "      <td>76.000000</td>\n",
       "      <td>1.000000</td>\n",
       "    </tr>\n",
       "    <tr>\n",
       "      <th>75%</th>\n",
       "      <td>1.000000</td>\n",
       "      <td>8.000000</td>\n",
       "      <td>443.500000</td>\n",
       "      <td>840.000000</td>\n",
       "      <td>3614.750000</td>\n",
       "      <td>17.025000</td>\n",
       "      <td>79.000000</td>\n",
       "      <td>2.000000</td>\n",
       "    </tr>\n",
       "    <tr>\n",
       "      <th>max</th>\n",
       "      <td>1.000000</td>\n",
       "      <td>8.000000</td>\n",
       "      <td>980.000000</td>\n",
       "      <td>980.000000</td>\n",
       "      <td>5140.000000</td>\n",
       "      <td>24.800000</td>\n",
       "      <td>82.000000</td>\n",
       "      <td>3.000000</td>\n",
       "    </tr>\n",
       "  </tbody>\n",
       "</table>\n",
       "</div>"
      ],
      "text/plain": [
       "              mpg   cylinders  displacement  horsepower       weight  \\\n",
       "count  392.000000  392.000000    392.000000  392.000000   392.000000   \n",
       "mean     0.000000    5.471939    388.348214  509.354592  2977.584184   \n",
       "std      1.001278    1.705783    302.431814  334.078508   849.402560   \n",
       "min     -1.000000    3.000000     97.500000  100.000000  1613.000000   \n",
       "25%     -1.000000    4.000000    145.750000  147.250000  2225.250000   \n",
       "50%      0.000000    4.000000    260.000000  650.000000  2803.500000   \n",
       "75%      1.000000    8.000000    443.500000  840.000000  3614.750000   \n",
       "max      1.000000    8.000000    980.000000  980.000000  5140.000000   \n",
       "\n",
       "       acceleration  model_year      origin  \n",
       "count    392.000000  392.000000  392.000000  \n",
       "mean      15.541327   75.979592    1.576531  \n",
       "std        2.758864    3.683737    0.805518  \n",
       "min        8.000000   70.000000    1.000000  \n",
       "25%       13.775000   73.000000    1.000000  \n",
       "50%       15.500000   76.000000    1.000000  \n",
       "75%       17.025000   79.000000    2.000000  \n",
       "max       24.800000   82.000000    3.000000  "
      ]
     },
     "execution_count": 31,
     "metadata": {},
     "output_type": "execute_result"
    }
   ],
   "source": [
    "auto_pd.describe()"
   ]
  },
  {
   "cell_type": "code",
   "execution_count": 32,
   "metadata": {},
   "outputs": [
    {
     "name": "stdout",
     "output_type": "stream",
     "text": [
      "<class 'pandas.core.frame.DataFrame'>\n",
      "RangeIndex: 393 entries, 0 to 392\n",
      "Data columns (total 8 columns):\n",
      " #   Column        Non-Null Count  Dtype  \n",
      "---  ------        --------------  -----  \n",
      " 0   mpg           392 non-null    float64\n",
      " 1   cylinders     392 non-null    float64\n",
      " 2   displacement  392 non-null    float64\n",
      " 3   horsepower    392 non-null    float64\n",
      " 4   weight        392 non-null    float64\n",
      " 5   acceleration  392 non-null    float64\n",
      " 6   model_year    392 non-null    float64\n",
      " 7   origin        392 non-null    float64\n",
      "dtypes: float64(8)\n",
      "memory usage: 24.7 KB\n"
     ]
    }
   ],
   "source": [
    "auto_pd.info()"
   ]
  },
  {
   "cell_type": "code",
   "execution_count": 33,
   "metadata": {},
   "outputs": [
    {
     "data": {
      "text/plain": [
       "mpg             1\n",
       "cylinders       1\n",
       "displacement    1\n",
       "horsepower      1\n",
       "weight          1\n",
       "acceleration    1\n",
       "model_year      1\n",
       "origin          1\n",
       "dtype: int64"
      ]
     },
     "execution_count": 33,
     "metadata": {},
     "output_type": "execute_result"
    }
   ],
   "source": [
    "auto_pd.isnull().sum()"
   ]
  },
  {
   "cell_type": "code",
   "execution_count": 34,
   "metadata": {},
   "outputs": [
    {
     "data": {
      "text/plain": [
       "(393, 8)"
      ]
     },
     "execution_count": 34,
     "metadata": {},
     "output_type": "execute_result"
    }
   ],
   "source": [
    "auto_pd.shape"
   ]
  },
  {
   "cell_type": "code",
   "execution_count": 35,
   "metadata": {},
   "outputs": [
    {
     "data": {
      "text/html": [
       "<div>\n",
       "<style scoped>\n",
       "    .dataframe tbody tr th:only-of-type {\n",
       "        vertical-align: middle;\n",
       "    }\n",
       "\n",
       "    .dataframe tbody tr th {\n",
       "        vertical-align: top;\n",
       "    }\n",
       "\n",
       "    .dataframe thead th {\n",
       "        text-align: right;\n",
       "    }\n",
       "</style>\n",
       "<table border=\"1\" class=\"dataframe\">\n",
       "  <thead>\n",
       "    <tr style=\"text-align: right;\">\n",
       "      <th></th>\n",
       "      <th>mpg</th>\n",
       "      <th>cylinders</th>\n",
       "      <th>displacement</th>\n",
       "      <th>horsepower</th>\n",
       "      <th>weight</th>\n",
       "      <th>acceleration</th>\n",
       "      <th>model_year</th>\n",
       "      <th>origin</th>\n",
       "    </tr>\n",
       "  </thead>\n",
       "  <tbody>\n",
       "    <tr>\n",
       "      <th>196</th>\n",
       "      <td>NaN</td>\n",
       "      <td>NaN</td>\n",
       "      <td>NaN</td>\n",
       "      <td>NaN</td>\n",
       "      <td>NaN</td>\n",
       "      <td>NaN</td>\n",
       "      <td>NaN</td>\n",
       "      <td>NaN</td>\n",
       "    </tr>\n",
       "  </tbody>\n",
       "</table>\n",
       "</div>"
      ],
      "text/plain": [
       "     mpg  cylinders  displacement  horsepower  weight  acceleration  \\\n",
       "196  NaN        NaN           NaN         NaN     NaN           NaN   \n",
       "\n",
       "     model_year  origin  \n",
       "196         NaN     NaN  "
      ]
     },
     "execution_count": 35,
     "metadata": {},
     "output_type": "execute_result"
    }
   ],
   "source": [
    "rows_with_nans = auto_pd.isnull().any(axis=1)\n",
    "auto_pd[rows_with_nans]"
   ]
  },
  {
   "cell_type": "code",
   "execution_count": 36,
   "metadata": {},
   "outputs": [],
   "source": [
    "auto_pd.dropna(inplace=True)\n",
    "auto_pd.reset_index(drop=True, inplace=True)"
   ]
  },
  {
   "cell_type": "code",
   "execution_count": 37,
   "metadata": {},
   "outputs": [],
   "source": [
    "features = auto_pd.drop(columns=['mpg'])\n",
    "labels = auto_pd['mpg']\n",
    "continuous_features = ['cylinders', 'displacement', 'horsepower', 'weight', 'acceleration']\n",
    "categorical_features = ['origin', 'model_year']"
   ]
  },
  {
   "cell_type": "code",
   "execution_count": 38,
   "metadata": {},
   "outputs": [],
   "source": [
    "categories = [sorted(auto_pd[cat].unique()) for cat in categorical_features]"
   ]
  },
  {
   "cell_type": "code",
   "execution_count": 39,
   "metadata": {},
   "outputs": [],
   "source": [
    "transformers = [\n",
    "    ('standard_scaler', StandardScaler(), continuous_features),  # Standardization for continuous features\n",
    "    ('one_hot_encoder', OneHotEncoder(categories=categories), categorical_features)    # One-hot encoding for categorical features\n",
    "]"
   ]
  },
  {
   "cell_type": "code",
   "execution_count": 40,
   "metadata": {},
   "outputs": [],
   "source": [
    "column_transformer = ColumnTransformer(transformers, remainder='passthrough')"
   ]
  },
  {
   "cell_type": "code",
   "execution_count": 41,
   "metadata": {},
   "outputs": [],
   "source": [
    "pipeline = Pipeline([\n",
    "    ('preprocessing', column_transformer)\n",
    "])"
   ]
  },
  {
   "cell_type": "code",
   "execution_count": 42,
   "metadata": {},
   "outputs": [
    {
     "data": {
      "text/html": [
       "<div>\n",
       "<style scoped>\n",
       "    .dataframe tbody tr th:only-of-type {\n",
       "        vertical-align: middle;\n",
       "    }\n",
       "\n",
       "    .dataframe tbody tr th {\n",
       "        vertical-align: top;\n",
       "    }\n",
       "\n",
       "    .dataframe thead th {\n",
       "        text-align: right;\n",
       "    }\n",
       "</style>\n",
       "<table border=\"1\" class=\"dataframe\">\n",
       "  <thead>\n",
       "    <tr style=\"text-align: right;\">\n",
       "      <th></th>\n",
       "      <th>mpg</th>\n",
       "      <th>standard_scaler__cylinders</th>\n",
       "      <th>standard_scaler__displacement</th>\n",
       "      <th>standard_scaler__horsepower</th>\n",
       "      <th>standard_scaler__weight</th>\n",
       "      <th>standard_scaler__acceleration</th>\n",
       "      <th>one_hot_encoder__origin_1.0</th>\n",
       "      <th>one_hot_encoder__origin_2.0</th>\n",
       "      <th>one_hot_encoder__origin_3.0</th>\n",
       "      <th>one_hot_encoder__model_year_70.0</th>\n",
       "      <th>...</th>\n",
       "      <th>one_hot_encoder__model_year_73.0</th>\n",
       "      <th>one_hot_encoder__model_year_74.0</th>\n",
       "      <th>one_hot_encoder__model_year_75.0</th>\n",
       "      <th>one_hot_encoder__model_year_76.0</th>\n",
       "      <th>one_hot_encoder__model_year_77.0</th>\n",
       "      <th>one_hot_encoder__model_year_78.0</th>\n",
       "      <th>one_hot_encoder__model_year_79.0</th>\n",
       "      <th>one_hot_encoder__model_year_80.0</th>\n",
       "      <th>one_hot_encoder__model_year_81.0</th>\n",
       "      <th>one_hot_encoder__model_year_82.0</th>\n",
       "    </tr>\n",
       "  </thead>\n",
       "  <tbody>\n",
       "    <tr>\n",
       "      <th>0</th>\n",
       "      <td>-1.0</td>\n",
       "      <td>1.483947</td>\n",
       "      <td>-0.279256</td>\n",
       "      <td>-0.948157</td>\n",
       "      <td>2.068110</td>\n",
       "      <td>1.073795</td>\n",
       "      <td>1.0</td>\n",
       "      <td>0.0</td>\n",
       "      <td>0.0</td>\n",
       "      <td>1.0</td>\n",
       "      <td>...</td>\n",
       "      <td>0.0</td>\n",
       "      <td>0.0</td>\n",
       "      <td>0.0</td>\n",
       "      <td>0.0</td>\n",
       "      <td>0.0</td>\n",
       "      <td>0.0</td>\n",
       "      <td>0.0</td>\n",
       "      <td>0.0</td>\n",
       "      <td>0.0</td>\n",
       "      <td>0.0</td>\n",
       "    </tr>\n",
       "    <tr>\n",
       "      <th>1</th>\n",
       "      <td>-1.0</td>\n",
       "      <td>1.483947</td>\n",
       "      <td>-0.269324</td>\n",
       "      <td>-0.927177</td>\n",
       "      <td>1.648456</td>\n",
       "      <td>-0.196464</td>\n",
       "      <td>1.0</td>\n",
       "      <td>0.0</td>\n",
       "      <td>0.0</td>\n",
       "      <td>1.0</td>\n",
       "      <td>...</td>\n",
       "      <td>0.0</td>\n",
       "      <td>0.0</td>\n",
       "      <td>0.0</td>\n",
       "      <td>0.0</td>\n",
       "      <td>0.0</td>\n",
       "      <td>0.0</td>\n",
       "      <td>0.0</td>\n",
       "      <td>0.0</td>\n",
       "      <td>0.0</td>\n",
       "      <td>0.0</td>\n",
       "    </tr>\n",
       "    <tr>\n",
       "      <th>2</th>\n",
       "      <td>-1.0</td>\n",
       "      <td>1.483947</td>\n",
       "      <td>-0.093854</td>\n",
       "      <td>-0.882220</td>\n",
       "      <td>1.930190</td>\n",
       "      <td>-0.559396</td>\n",
       "      <td>1.0</td>\n",
       "      <td>0.0</td>\n",
       "      <td>0.0</td>\n",
       "      <td>1.0</td>\n",
       "      <td>...</td>\n",
       "      <td>0.0</td>\n",
       "      <td>0.0</td>\n",
       "      <td>0.0</td>\n",
       "      <td>0.0</td>\n",
       "      <td>0.0</td>\n",
       "      <td>0.0</td>\n",
       "      <td>0.0</td>\n",
       "      <td>0.0</td>\n",
       "      <td>0.0</td>\n",
       "      <td>0.0</td>\n",
       "    </tr>\n",
       "    <tr>\n",
       "      <th>3</th>\n",
       "      <td>-1.0</td>\n",
       "      <td>1.483947</td>\n",
       "      <td>-0.232906</td>\n",
       "      <td>-0.897206</td>\n",
       "      <td>1.655529</td>\n",
       "      <td>-0.740861</td>\n",
       "      <td>1.0</td>\n",
       "      <td>0.0</td>\n",
       "      <td>0.0</td>\n",
       "      <td>1.0</td>\n",
       "      <td>...</td>\n",
       "      <td>0.0</td>\n",
       "      <td>0.0</td>\n",
       "      <td>0.0</td>\n",
       "      <td>0.0</td>\n",
       "      <td>0.0</td>\n",
       "      <td>0.0</td>\n",
       "      <td>0.0</td>\n",
       "      <td>0.0</td>\n",
       "      <td>0.0</td>\n",
       "      <td>0.0</td>\n",
       "    </tr>\n",
       "    <tr>\n",
       "      <th>4</th>\n",
       "      <td>-1.0</td>\n",
       "      <td>1.483947</td>\n",
       "      <td>-0.126962</td>\n",
       "      <td>-0.987120</td>\n",
       "      <td>0.809149</td>\n",
       "      <td>-1.648189</td>\n",
       "      <td>1.0</td>\n",
       "      <td>0.0</td>\n",
       "      <td>0.0</td>\n",
       "      <td>0.0</td>\n",
       "      <td>...</td>\n",
       "      <td>1.0</td>\n",
       "      <td>0.0</td>\n",
       "      <td>0.0</td>\n",
       "      <td>0.0</td>\n",
       "      <td>0.0</td>\n",
       "      <td>0.0</td>\n",
       "      <td>0.0</td>\n",
       "      <td>0.0</td>\n",
       "      <td>0.0</td>\n",
       "      <td>0.0</td>\n",
       "    </tr>\n",
       "  </tbody>\n",
       "</table>\n",
       "<p>5 rows × 22 columns</p>\n",
       "</div>"
      ],
      "text/plain": [
       "   mpg  standard_scaler__cylinders  standard_scaler__displacement  \\\n",
       "0 -1.0                    1.483947                      -0.279256   \n",
       "1 -1.0                    1.483947                      -0.269324   \n",
       "2 -1.0                    1.483947                      -0.093854   \n",
       "3 -1.0                    1.483947                      -0.232906   \n",
       "4 -1.0                    1.483947                      -0.126962   \n",
       "\n",
       "   standard_scaler__horsepower  standard_scaler__weight  \\\n",
       "0                    -0.948157                 2.068110   \n",
       "1                    -0.927177                 1.648456   \n",
       "2                    -0.882220                 1.930190   \n",
       "3                    -0.897206                 1.655529   \n",
       "4                    -0.987120                 0.809149   \n",
       "\n",
       "   standard_scaler__acceleration  one_hot_encoder__origin_1.0  \\\n",
       "0                       1.073795                          1.0   \n",
       "1                      -0.196464                          1.0   \n",
       "2                      -0.559396                          1.0   \n",
       "3                      -0.740861                          1.0   \n",
       "4                      -1.648189                          1.0   \n",
       "\n",
       "   one_hot_encoder__origin_2.0  one_hot_encoder__origin_3.0  \\\n",
       "0                          0.0                          0.0   \n",
       "1                          0.0                          0.0   \n",
       "2                          0.0                          0.0   \n",
       "3                          0.0                          0.0   \n",
       "4                          0.0                          0.0   \n",
       "\n",
       "   one_hot_encoder__model_year_70.0  ...  one_hot_encoder__model_year_73.0  \\\n",
       "0                               1.0  ...                               0.0   \n",
       "1                               1.0  ...                               0.0   \n",
       "2                               1.0  ...                               0.0   \n",
       "3                               1.0  ...                               0.0   \n",
       "4                               0.0  ...                               1.0   \n",
       "\n",
       "   one_hot_encoder__model_year_74.0  one_hot_encoder__model_year_75.0  \\\n",
       "0                               0.0                               0.0   \n",
       "1                               0.0                               0.0   \n",
       "2                               0.0                               0.0   \n",
       "3                               0.0                               0.0   \n",
       "4                               0.0                               0.0   \n",
       "\n",
       "   one_hot_encoder__model_year_76.0  one_hot_encoder__model_year_77.0  \\\n",
       "0                               0.0                               0.0   \n",
       "1                               0.0                               0.0   \n",
       "2                               0.0                               0.0   \n",
       "3                               0.0                               0.0   \n",
       "4                               0.0                               0.0   \n",
       "\n",
       "   one_hot_encoder__model_year_78.0  one_hot_encoder__model_year_79.0  \\\n",
       "0                               0.0                               0.0   \n",
       "1                               0.0                               0.0   \n",
       "2                               0.0                               0.0   \n",
       "3                               0.0                               0.0   \n",
       "4                               0.0                               0.0   \n",
       "\n",
       "   one_hot_encoder__model_year_80.0  one_hot_encoder__model_year_81.0  \\\n",
       "0                               0.0                               0.0   \n",
       "1                               0.0                               0.0   \n",
       "2                               0.0                               0.0   \n",
       "3                               0.0                               0.0   \n",
       "4                               0.0                               0.0   \n",
       "\n",
       "   one_hot_encoder__model_year_82.0  \n",
       "0                               0.0  \n",
       "1                               0.0  \n",
       "2                               0.0  \n",
       "3                               0.0  \n",
       "4                               0.0  \n",
       "\n",
       "[5 rows x 22 columns]"
      ]
     },
     "execution_count": 42,
     "metadata": {},
     "output_type": "execute_result"
    }
   ],
   "source": [
    "transformed_features = pipeline.fit_transform(features)\n",
    "transformed_feature_names = column_transformer.get_feature_names_out(input_features=features.columns)\n",
    "auto_final_df = pd.concat([auto_pd['mpg'], pd.DataFrame(transformed_features, columns=transformed_feature_names)], axis=1)\n",
    "auto_final_df.head()"
   ]
  },
  {
   "cell_type": "code",
   "execution_count": 43,
   "metadata": {},
   "outputs": [],
   "source": [
    "X = auto_final_df.drop(columns=['mpg'])\n",
    "y = auto_final_df['mpg']\n",
    "X_train, X_test, y_train, y_test = train_test_split(X, y, test_size=0.3, random_state=42)"
   ]
  },
  {
   "cell_type": "code",
   "execution_count": 44,
   "metadata": {},
   "outputs": [],
   "source": [
    "X_train.reset_index(drop=True, inplace=True)\n",
    "X_test.reset_index(drop=True, inplace=True)\n",
    "y_train.reset_index(drop=True, inplace=True)\n",
    "y_test.reset_index(drop=True, inplace=True)"
   ]
  },
  {
   "cell_type": "code",
   "execution_count": 45,
   "metadata": {},
   "outputs": [
    {
     "name": "stdout",
     "output_type": "stream",
     "text": [
      "Complete in 100 epochs: maximum number of epochs reached\n",
      "Complete in 100 epochs: maximum number of epochs reached\n"
     ]
    }
   ],
   "source": [
    "perceptron_weights = perceptron(X_train.values, y_train.values)\n",
    "avg_perceptron_weights = average_perceptron(X_train.values, y_train.values)"
   ]
  },
  {
   "cell_type": "code",
   "execution_count": 46,
   "metadata": {},
   "outputs": [],
   "source": [
    "y_pred_perceptron = np.sign(X_test.values.dot(perceptron_weights))\n",
    "y_pred_avg_perceptron = np.sign(X_test.values.dot(avg_perceptron_weights))"
   ]
  },
  {
   "cell_type": "code",
   "execution_count": 47,
   "metadata": {},
   "outputs": [],
   "source": [
    "conf_matrix_perceptron = confusion_matrix(y_test, y_pred_perceptron)\n",
    "conf_matrix_avg_perceptron = confusion_matrix(y_test, y_pred_avg_perceptron)\n",
    "TPR_perceptron = conf_matrix_perceptron[1, 1] / (conf_matrix_perceptron[1, 1] + conf_matrix_perceptron[1, 0])\n",
    "TNR_perceptron = conf_matrix_perceptron[0, 0] / (conf_matrix_perceptron[0, 0] + conf_matrix_perceptron[0, 1])\n",
    "TPR_avg_perceptron = conf_matrix_avg_perceptron[1, 1] / (conf_matrix_avg_perceptron[1, 1] + conf_matrix_avg_perceptron[1, 0])\n",
    "TNR_avg_perceptron = conf_matrix_avg_perceptron[0, 0] / (conf_matrix_avg_perceptron[0, 0] + conf_matrix_avg_perceptron[0, 1])"
   ]
  },
  {
   "cell_type": "code",
   "execution_count": 48,
   "metadata": {},
   "outputs": [
    {
     "name": "stdout",
     "output_type": "stream",
     "text": [
      "Perceptron:\n",
      "True Positive Rate (TPR): 0.803921568627451\n",
      "True Negative Rate (TNR): 0.9104477611940298\n",
      "\n",
      "Average Perceptron:\n",
      "True Positive Rate (TPR): 0.9215686274509803\n",
      "True Negative Rate (TNR): 0.9104477611940298\n"
     ]
    }
   ],
   "source": [
    "print(\"Perceptron:\")\n",
    "print(\"True Positive Rate (TPR):\", TPR_perceptron)\n",
    "print(\"True Negative Rate (TNR):\", TNR_perceptron)\n",
    "\n",
    "print(\"\\nAverage Perceptron:\")\n",
    "print(\"True Positive Rate (TPR):\", TPR_avg_perceptron)\n",
    "print(\"True Negative Rate (TNR):\", TNR_avg_perceptron)"
   ]
  },
  {
   "cell_type": "code",
   "execution_count": 49,
   "metadata": {},
   "outputs": [],
   "source": [
    "def calculate_tpr_tnr(y_true, y_pred):\n",
    "    # Calculate True Positive Rate (TPR) and True Negative Rate (TNR)\n",
    "    conf_matrix = confusion_matrix(y_true, y_pred)\n",
    "    TPR = conf_matrix[1, 1] / (conf_matrix[1, 1] + conf_matrix[1, 0])\n",
    "    TNR = conf_matrix[0, 0] / (conf_matrix[0, 0] + conf_matrix[0, 1])\n",
    "    return TPR, TNR"
   ]
  },
  {
   "cell_type": "code",
   "execution_count": 50,
   "metadata": {},
   "outputs": [
    {
     "name": "stdout",
     "output_type": "stream",
     "text": [
      "Complete in 100 epochs: maximum number of epochs reached\n",
      "Complete in 100 epochs: maximum number of epochs reached\n",
      "Complete in 100 epochs: maximum number of epochs reached\n",
      "Complete in 100 epochs: maximum number of epochs reached\n",
      "Complete in 100 epochs: maximum number of epochs reached\n",
      "Complete in 100 epochs: maximum number of epochs reached\n",
      "Complete in 100 epochs: maximum number of epochs reached\n",
      "Complete in 100 epochs: maximum number of epochs reached\n",
      "Complete in 100 epochs: maximum number of epochs reached\n",
      "Complete in 100 epochs: maximum number of epochs reached\n",
      "Perceptron:\n",
      "Average True Positive Rate (TPR): 0.8585177035240974\n",
      "Average True Negative Rate (TNR): 0.921700542038297\n"
     ]
    }
   ],
   "source": [
    "kf = KFold(n_splits=10, shuffle=True, random_state=42)\n",
    "tpr_perceptron_list = []\n",
    "tnr_perceptron_list = []\n",
    "\n",
    "for train_index, test_index in kf.split(X):\n",
    "    X_train, X_test = X.iloc[train_index], X.iloc[test_index]\n",
    "    y_train, y_test = y.iloc[train_index], y.iloc[test_index]\n",
    "\n",
    "    perceptron_weights = perceptron(X_train.values, y_train.values)\n",
    "    y_pred_perceptron = np.sign(X_test.values.dot(perceptron_weights))\n",
    "\n",
    "    tpr, tnr = calculate_tpr_tnr(y_test.values, y_pred_perceptron)\n",
    "    tpr_perceptron_list.append(tpr)\n",
    "    tnr_perceptron_list.append(tnr)\n",
    "\n",
    "avg_tpr_perceptron = np.mean(tpr_perceptron_list)\n",
    "avg_tnr_perceptron = np.mean(tnr_perceptron_list)\n",
    "print(\"Perceptron:\")\n",
    "print(\"Average True Positive Rate (TPR):\", avg_tpr_perceptron)\n",
    "print(\"Average True Negative Rate (TNR):\", avg_tnr_perceptron)"
   ]
  },
  {
   "cell_type": "code",
   "execution_count": 51,
   "metadata": {},
   "outputs": [
    {
     "name": "stdout",
     "output_type": "stream",
     "text": [
      "Complete in 100 epochs: maximum number of epochs reached\n",
      "Complete in 100 epochs: maximum number of epochs reached\n"
     ]
    },
    {
     "name": "stdout",
     "output_type": "stream",
     "text": [
      "Complete in 100 epochs: maximum number of epochs reached\n",
      "Complete in 100 epochs: maximum number of epochs reached\n",
      "Complete in 100 epochs: maximum number of epochs reached\n",
      "Complete in 100 epochs: maximum number of epochs reached\n",
      "Complete in 100 epochs: maximum number of epochs reached\n",
      "Complete in 100 epochs: maximum number of epochs reached\n",
      "Complete in 100 epochs: maximum number of epochs reached\n",
      "Complete in 100 epochs: maximum number of epochs reached\n",
      "Average Perceptron:\n",
      "Average True Positive Rate (TPR): 0.9377293117510508\n",
      "Average True Negative Rate (TNR): 0.8831832154299326\n"
     ]
    }
   ],
   "source": [
    "kf = KFold(n_splits=10, shuffle=True, random_state=42)\n",
    "tpr_perceptron_list = []\n",
    "tnr_perceptron_list = []\n",
    "\n",
    "for train_index, test_index in kf.split(X):\n",
    "    X_train, X_test = X.iloc[train_index], X.iloc[test_index]\n",
    "    y_train, y_test = y.iloc[train_index], y.iloc[test_index]\n",
    "\n",
    "    avg_perceptron_weights = average_perceptron(X_train.values, y_train.values)\n",
    "    y_pred_avg_perceptron = np.sign(X_test.values.dot(avg_perceptron_weights))\n",
    "\n",
    "    tpr, tnr = calculate_tpr_tnr(y_test.values, y_pred_avg_perceptron)\n",
    "    tpr_perceptron_list.append(tpr)\n",
    "    tnr_perceptron_list.append(tnr)\n",
    "\n",
    "avg_tpr_perceptron = np.mean(tpr_perceptron_list)\n",
    "avg_tnr_perceptron = np.mean(tnr_perceptron_list)\n",
    "print(\"Average Perceptron:\")\n",
    "print(\"Average True Positive Rate (TPR):\", avg_tpr_perceptron)\n",
    "print(\"Average True Negative Rate (TNR):\", avg_tnr_perceptron)\n",
    "    "
   ]
  },
  {
   "cell_type": "code",
   "execution_count": 52,
   "metadata": {},
   "outputs": [
    {
     "name": "stdout",
     "output_type": "stream",
     "text": [
      "Complete in 58 epochs: no weight revisions in epoch\n"
     ]
    },
    {
     "name": "stdout",
     "output_type": "stream",
     "text": [
      "Complete in 98 epochs: no weight revisions in epoch\n",
      "Complete in 100 epochs: maximum number of epochs reached\n",
      "Complete in 97 epochs: no weight revisions in epoch\n",
      "Complete in 100 epochs: maximum number of epochs reached\n",
      "Complete in 100 epochs: maximum number of epochs reached\n",
      "Complete in 58 epochs: no weight revisions in epoch\n",
      "Complete in 100 epochs: maximum number of epochs reached\n",
      "Complete in 86 epochs: no weight revisions in epoch\n",
      "Complete in 62 epochs: no weight revisions in epoch\n",
      "\n",
      "Perceptron with Polynomial Features (Degree=2):\n",
      "Average True Positive Rate (TPR): 0.9173937308783856\n",
      "Average True Negative Rate (TNR): 0.9133442066811878\n"
     ]
    }
   ],
   "source": [
    "degree = 2\n",
    "\n",
    "poly = PolynomialFeatures(degree=degree)\n",
    "X_poly = poly.fit_transform(X)\n",
    "\n",
    "kf = KFold(n_splits=10, shuffle=True, random_state=42)\n",
    "tpr_poly_list = []\n",
    "tnr_poly_list = []\n",
    "\n",
    "for train_index, test_index in kf.split(X_poly):\n",
    "    X_train, X_test = X_poly[train_index], X_poly[test_index]\n",
    "    y_train, y_test = y.iloc[train_index], y.iloc[test_index]\n",
    "\n",
    "    perceptron_weights = perceptron(X_train, y_train.values)\n",
    "    y_pred_perceptron = np.sign(X_test.dot(perceptron_weights))\n",
    "\n",
    "    tpr, tnr = calculate_tpr_tnr(y_test.values, y_pred_perceptron)\n",
    "    tpr_poly_list.append(tpr)\n",
    "    tnr_poly_list.append(tnr)\n",
    "\n",
    "avg_tpr_poly = np.mean(tpr_poly_list)\n",
    "avg_tnr_poly = np.mean(tnr_poly_list)\n",
    "print(\"\\nPerceptron with Polynomial Features (Degree={}):\".format(degree))\n",
    "print(\"Average True Positive Rate (TPR):\", avg_tpr_poly)\n",
    "print(\"Average True Negative Rate (TNR):\", avg_tnr_poly)"
   ]
  },
  {
   "cell_type": "code",
   "execution_count": 53,
   "metadata": {},
   "outputs": [
    {
     "name": "stdout",
     "output_type": "stream",
     "text": [
      "Complete in 100 epochs: maximum number of epochs reached\n",
      "Complete in 100 epochs: maximum number of epochs reached\n",
      "Complete in 100 epochs: maximum number of epochs reached\n",
      "Complete in 100 epochs: maximum number of epochs reached\n",
      "Complete in 100 epochs: maximum number of epochs reached\n",
      "Complete in 100 epochs: maximum number of epochs reached\n",
      "Complete in 100 epochs: maximum number of epochs reached\n",
      "Complete in 100 epochs: maximum number of epochs reached\n",
      "Complete in 100 epochs: maximum number of epochs reached\n",
      "Complete in 100 epochs: maximum number of epochs reached\n",
      "Complete in 27 epochs: no weight revisions in epoch\n",
      "Complete in 100 epochs: maximum number of epochs reached\n",
      "Complete in 92 epochs: no weight revisions in epoch\n",
      "Complete in 77 epochs: no weight revisions in epoch\n",
      "Complete in 70 epochs: no weight revisions in epoch\n",
      "Complete in 100 epochs: maximum number of epochs reached\n",
      "Complete in 43 epochs: no weight revisions in epoch\n",
      "Complete in 100 epochs: maximum number of epochs reached\n",
      "Complete in 100 epochs: maximum number of epochs reached\n",
      "Complete in 90 epochs: no weight revisions in epoch\n",
      "Complete in 36 epochs: no weight revisions in epoch\n",
      "Complete in 64 epochs: no weight revisions in epoch\n",
      "Complete in 84 epochs: no weight revisions in epoch\n",
      "Complete in 60 epochs: no weight revisions in epoch\n",
      "Complete in 53 epochs: no weight revisions in epoch\n",
      "Complete in 83 epochs: no weight revisions in epoch\n",
      "Complete in 41 epochs: no weight revisions in epoch\n",
      "Complete in 74 epochs: no weight revisions in epoch\n",
      "Complete in 76 epochs: no weight revisions in epoch\n",
      "Complete in 42 epochs: no weight revisions in epoch\n",
      "Complete in 12 epochs: no weight revisions in epoch\n",
      "Complete in 46 epochs: no weight revisions in epoch\n",
      "Complete in 39 epochs: no weight revisions in epoch\n",
      "Complete in 40 epochs: no weight revisions in epoch\n",
      "Complete in 68 epochs: no weight revisions in epoch\n",
      "Complete in 28 epochs: no weight revisions in epoch\n",
      "Complete in 27 epochs: no weight revisions in epoch\n",
      "Complete in 63 epochs: no weight revisions in epoch\n",
      "Complete in 59 epochs: no weight revisions in epoch\n",
      "Complete in 35 epochs: no weight revisions in epoch\n",
      "Complete in 23 epochs: no weight revisions in epoch\n",
      "Complete in 31 epochs: no weight revisions in epoch\n",
      "Complete in 20 epochs: no weight revisions in epoch\n",
      "Complete in 24 epochs: no weight revisions in epoch\n",
      "Complete in 35 epochs: no weight revisions in epoch\n",
      "Complete in 31 epochs: no weight revisions in epoch\n",
      "Complete in 15 epochs: no weight revisions in epoch\n",
      "Complete in 31 epochs: no weight revisions in epoch\n",
      "Complete in 37 epochs: no weight revisions in epoch\n",
      "Complete in 45 epochs: no weight revisions in epoch\n",
      "Complete in 22 epochs: no weight revisions in epoch\n",
      "Complete in 24 epochs: no weight revisions in epoch\n",
      "Complete in 32 epochs: no weight revisions in epoch\n",
      "Complete in 27 epochs: no weight revisions in epoch\n",
      "Complete in 33 epochs: no weight revisions in epoch\n",
      "Complete in 18 epochs: no weight revisions in epoch\n",
      "Complete in 16 epochs: no weight revisions in epoch\n",
      "Complete in 33 epochs: no weight revisions in epoch\n",
      "Complete in 23 epochs: no weight revisions in epoch\n",
      "Complete in 51 epochs: no weight revisions in epoch\n"
     ]
    },
    {
     "data": {
      "image/png": "[encoded data removed]",
      "text/plain": [
       "<Figure size 1000x600 with 1 Axes>"
      ]
     },
     "metadata": {},
     "output_type": "display_data"
    }
   ],
   "source": [
    "degrees = [1, 2, 3, 4, 5, 6]\n",
    "accuracy_scores = []\n",
    "\n",
    "for degree in degrees:\n",
    "    poly = PolynomialFeatures(degree=degree)\n",
    "    X_poly = poly.fit_transform(X)\n",
    "\n",
    "    kf = KFold(n_splits=10, shuffle=True, random_state=42)\n",
    "    accuracies = []\n",
    "\n",
    "    for train_index, test_index in kf.split(X_poly):\n",
    "        X_train, X_test = X_poly[train_index], X_poly[test_index]\n",
    "        y_train, y_test = y.iloc[train_index], y.iloc[test_index]\n",
    "\n",
    "        avg_perceptron_weights = average_perceptron(X_train, y_train.values)\n",
    "        y_pred_avg_perceptron = np.sign(X_test.dot(avg_perceptron_weights))\n",
    "        accuracy = accuracy_score(y_test, y_pred_avg_perceptron)\n",
    "        accuracies.append(accuracy)\n",
    "\n",
    "    avg_accuracy = np.mean(accuracies)\n",
    "    accuracy_scores.append(avg_accuracy)\n",
    "\n",
    "# Plotting\n",
    "plt.figure(figsize=(10, 6))\n",
    "plt.plot(degrees, accuracy_scores, marker='o')\n",
    "plt.title('Accuracy vs Polynomial Degree')\n",
    "plt.xlabel('Polynomial Degree')\n",
    "plt.ylabel('Average Accuracy')\n",
    "plt.grid(True)\n",
    "plt.xticks(degrees)\n",
    "plt.show()"
   ]
  },
  {
   "cell_type": "markdown",
   "metadata": {},
   "source": [
    "## Kernels [20]\n",
    "\n",
    "Implement polynomial kernel algorithm \n"
   ]
  },
  {
   "cell_type": "code",
   "execution_count": 54,
   "metadata": {},
   "outputs": [],
   "source": [
    "def polynomial_kernel(x, y, d):\n",
    "    return (np.dot(x, y) + 1) ** d"
   ]
  },
  {
   "cell_type": "code",
   "execution_count": 55,
   "metadata": {},
   "outputs": [
    {
     "data": {
      "text/plain": [
       "5132.953125"
      ]
     },
     "execution_count": 55,
     "metadata": {},
     "output_type": "execute_result"
    }
   ],
   "source": [
    "# You can test your kernel function below\n",
    "# The answer should be 5132.95\n",
    "x_1 = np.array([1, -0.5, 2, 4])\n",
    "x_2 = np.array([3.5, 2.1, -1.3, 4.1])\n",
    "polynomial_kernel(x_1, x_2, d=3)"
   ]
  },
  {
   "cell_type": "markdown",
   "metadata": {},
   "source": [
    "Implement radial basis function kernel"
   ]
  },
  {
   "cell_type": "code",
   "execution_count": 56,
   "metadata": {},
   "outputs": [],
   "source": [
    "def rbf_kernel(x, y, sigma=1.0):\n",
    "    diff = x - y\n",
    "    return np.exp(-np.dot(diff, diff) / (2 * sigma ** 2))"
   ]
  },
  {
   "cell_type": "code",
   "execution_count": 57,
   "metadata": {},
   "outputs": [
    {
     "data": {
      "text/plain": [
       "6.427017298776608e-06"
      ]
     },
     "execution_count": 57,
     "metadata": {},
     "output_type": "execute_result"
    }
   ],
   "source": [
    "# You can test your kernel function below\n",
    "# The answer should be 6.427017298776608e-06\n",
    "rbf_kernel(x_1, x_2)"
   ]
  },
  {
   "cell_type": "markdown",
   "metadata": {},
   "source": [
    "## Bonus [30]\n",
    "\n",
    "Implement the kernel perceptron algorithm below\n",
    "\n",
    "---\n",
    "\n",
    "- Start $\\boldsymbol{\\alpha}=\\begin{bmatrix} 0 \\\\ \\vdots \\\\ 0 \\end{bmatrix}$\n",
    "- For $t = 0, 1, 2, \\dots$:\n",
    "  - Select a random index $i \\in \\{1,\\dots,n\\}$\n",
    "  - If: $\\quad y^{(i)} \\sum_{j=1}^n  \\alpha_j y^{(j)} K(\\pmb x^{(j)}, \\pmb x^{(i)}) \\leq 0$\n",
    "    $$\\alpha_i = \\alpha_i + 1$$\n",
    "  - Else:\n",
    "   $$\\alpha_i = \\alpha_i $$\n",
    "- return $\\boldsymbol{\\alpha}$\n",
    "\n",
    "---\n",
    "\n",
    "\n"
   ]
  },
  {
   "cell_type": "code",
   "execution_count": 58,
   "metadata": {},
   "outputs": [],
   "source": [
    "def kernel_perceptron(X, y, kernel, d, max_epochs=100):\n",
    "    n = len(y) # Number of examples\n",
    "    alpha = np.zeros(n) # Initial alpha values\n",
    "    \n",
    "    for epoch in range(max_epochs):\n",
    "        for i in np.random.permutation(n):\n",
    "            # Compute the prediction\n",
    "            prediction = np.sum(alpha * y * kernel(X, X[i], d))\n",
    "            \n",
    "            # Update alpha if prediction is incorrect\n",
    "            if y[i] * prediction <= 0:\n",
    "                alpha[i] += 1\n",
    "    \n",
    "    return alpha"
   ]
  },
  {
   "cell_type": "code",
   "execution_count": 59,
   "metadata": {},
   "outputs": [],
   "source": [
    "X = auto_final_df.drop(columns=['mpg'])\n",
    "y = auto_final_df['mpg']\n",
    "X_train, X_test, y_train, y_test = train_test_split(X, y, test_size=0.3, random_state=42)"
   ]
  },
  {
   "cell_type": "code",
   "execution_count": 60,
   "metadata": {},
   "outputs": [],
   "source": [
    "X_train.reset_index(drop=True, inplace=True)\n",
    "X_test.reset_index(drop=True, inplace=True)\n",
    "y_train.reset_index(drop=True, inplace=True)\n",
    "y_test.reset_index(drop=True, inplace=True)"
   ]
  },
  {
   "cell_type": "code",
   "execution_count": 61,
   "metadata": {},
   "outputs": [],
   "source": [
    "alpha = kernel_perceptron(X_train.values, y_train.values, polynomial_kernel, d=2)"
   ]
  },
  {
   "cell_type": "code",
   "execution_count": 62,
   "metadata": {},
   "outputs": [
    {
     "name": "stdout",
     "output_type": "stream",
     "text": [
      "Final alpha values: [ 0.  0.  0.  0.  2.  0.  1.  0.  5.  1.  1.  0.  0.  5.  0.  0.  1.  0.\n",
      "  0.  0.  0.  0.  0.  0.  0.  0.  0.  0.  4.  0.  0.  0.  0.  0.  1.  0.\n",
      "  0. 10.  0.  2.  0.  0.  0.  1.  0.  0.  0.  0.  0.  0.  1.  0.  0.  2.\n",
      "  0.  0.  0.  3.  0.  0.  0.  0.  0.  0.  1.  0.  0.  0.  0.  0.  8.  0.\n",
      "  1.  0.  0.  1.  2.  0.  1.  0.  0.  0.  0.  0. 10.  0.  0.  2.  1.  1.\n",
      "  0.  0.  0.  0.  0.  0.  1.  0.  0.  2.  0.  9.  0.  0. 10.  0.  1.  1.\n",
      "  0.  0.  0.  1.  0.  0.  0.  2.  0.  0.  0.  0.  0.  0.  3.  0.  0.  6.\n",
      "  5.  1.  0.  0.  0.  1.  0.  0. 18.  0.  0.  0.  0.  0.  0.  0.  0.  0.\n",
      "  9.  2.  0.  3.  0.  0. 19.  0.  0.  1.  0.  0.  0.  1.  1.  4.  1.  0.\n",
      "  0.  2.  4.  3.  0.  0.  0.  0.  0.  1.  0.  0.  1.  3.  2.  0.  0.  1.\n",
      "  0.  2.  2.  0.  0.  0.  0.  1.  0.  0.  0.  0.  0.  0. 10.  1.  2.  0.\n",
      "  0.  0.  0.  1.  0.  1.  2.  0.  0.  8.  0.  0.  2.  0.  0.  0.  1.  0.\n",
      "  2.  0.  1.  1.  0.  0.  0.  0.  0.  0.  1.  0.  0.  0.  2.  0.  0.  0.\n",
      "  0.  6.  0.  4.  0.  0.  5.  0.  0.  0.  1. 14.  0.  0.  0.  1.  0. 12.\n",
      "  0.  1.  1.  0.  2.  0.  5.  0.  0.  0.  0.  0.  6.  0.  0.  0.  1.  0.\n",
      "  0.  7.  1.  0.]\n"
     ]
    }
   ],
   "source": [
    "print(\"Final alpha values:\", alpha)"
   ]
  },
  {
   "cell_type": "code",
   "execution_count": 63,
   "metadata": {},
   "outputs": [],
   "source": [
    "def predict_labels(alpha, X_train, y_train, X_test):\n",
    "    y_pred = []\n",
    "    for x_test in X_test:\n",
    "        prediction = 0\n",
    "        for i in range(len(X_train)):\n",
    "            prediction += alpha[i] * y_train[i] * polynomial_kernel(X_train[i], x_test, d=3)  # Using polynomial kernel function\n",
    "        y_pred.append(np.sign(prediction))\n",
    "    return np.array(y_pred)"
   ]
  },
  {
   "cell_type": "code",
   "execution_count": 64,
   "metadata": {},
   "outputs": [],
   "source": [
    "y_pred_test = predict_labels(alpha, X_train.values, y_train.values, X_test.values)"
   ]
  },
  {
   "cell_type": "code",
   "execution_count": 65,
   "metadata": {},
   "outputs": [
    {
     "name": "stdout",
     "output_type": "stream",
     "text": [
      "Accuracy: 0.8135593220338984\n",
      "Confusion Matrix:\n",
      "[[53 14]\n",
      " [ 8 43]]\n",
      "Classification Report:\n",
      "              precision    recall  f1-score   support\n",
      "\n",
      "        -1.0       0.87      0.79      0.83        67\n",
      "         1.0       0.75      0.84      0.80        51\n",
      "\n",
      "    accuracy                           0.81       118\n",
      "   macro avg       0.81      0.82      0.81       118\n",
      "weighted avg       0.82      0.81      0.81       118\n",
      "\n"
     ]
    }
   ],
   "source": [
    "accuracy = accuracy_score(y_test, y_pred_test)\n",
    "print(\"Accuracy:\", accuracy)\n",
    "conf_matrix = confusion_matrix(y_test, y_pred_test)\n",
    "print(\"Confusion Matrix:\")\n",
    "print(conf_matrix)\n",
    "class_report = classification_report(y_test, y_pred_test)\n",
    "print(\"Classification Report:\")\n",
    "print(class_report)"
   ]
  }
 ],
 "metadata": {
  "kernelspec": {
   "display_name": "Python 3 (ipykernel)",
   "language": "python",
   "name": "python3"
  },
  "language_info": {
   "codemirror_mode": {
    "name": "ipython",
    "version": 3
   },
   "file_extension": ".py",
   "mimetype": "text/x-python",
   "name": "python",
   "nbconvert_exporter": "python",
   "pygments_lexer": "ipython3",
   "version": "3.11.8"
  }
 },
 "nbformat": 4,
 "nbformat_minor": 4
}
