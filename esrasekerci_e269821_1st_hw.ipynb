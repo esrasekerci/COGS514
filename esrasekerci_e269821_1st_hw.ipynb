{
 "cells": [
  {
   "cell_type": "markdown",
   "metadata": {},
   "source": [
    "# Assignment 1\n",
    "\n",
    "Please enter your **name, surname** and **student number** instead of `\"NAME-HERE\"`, `\"SURNAME-HERE\"`, `\"NUMBER-HERE\"` below"
   ]
  },
  {
   "cell_type": "code",
   "execution_count": 1,
   "id": "7084431e",
   "metadata": {},
   "outputs": [
    {
     "name": "stdout",
     "output_type": "stream",
     "text": [
      "{'name': 'Esra', 'surname': 'Sekerci', 'studentNumber': '2698215'}\n"
     ]
    }
   ],
   "source": [
    "student = {\n",
    "    'name' : \"Esra\" ,\n",
    "    'surname' : \"Sekerci\", \n",
    "    'studentNumber' : \"2698215\"\n",
    "}\n",
    "\n",
    "print(student)"
   ]
  },
  {
   "cell_type": "markdown",
   "id": "8c32e631",
   "metadata": {},
   "source": [
    "This homework is composed of 3 parts with multiple questions. There is an empty or partially written code block under every question. Please complete those code blocks and run your code. \n",
    "\n",
    "## Part 1 (36 pts)"
   ]
  },
  {
   "cell_type": "markdown",
   "id": "44875be2",
   "metadata": {},
   "source": [
    "1. Create a random vector of size 5, $\\pmb a \\in \\mathbb R^5$ (use the relevant `numpy` function for creating a random vector)"
   ]
  },
  {
   "cell_type": "code",
   "execution_count": 2,
   "id": "041f244e",
   "metadata": {},
   "outputs": [],
   "source": [
    "import numpy as np"
   ]
  },
  {
   "cell_type": "code",
   "execution_count": 3,
   "id": "8cb5b6d4",
   "metadata": {},
   "outputs": [
    {
     "data": {
      "text/plain": [
       "array([0.72422595, 0.28085982, 0.58279845, 0.78210198, 0.10218111])"
      ]
     },
     "execution_count": 3,
     "metadata": {},
     "output_type": "execute_result"
    }
   ],
   "source": [
    "a = np.random.rand(5)\n",
    "a"
   ]
  },
  {
   "cell_type": "markdown",
   "id": "aced2451",
   "metadata": {},
   "source": [
    "2. Create a vector of zeros of size 5, $\\pmb b \\in \\mathbb R^5$ (use the relevant `numpy` function for creating a vector of zeros)"
   ]
  },
  {
   "cell_type": "code",
   "execution_count": 4,
   "id": "e590ac7f",
   "metadata": {},
   "outputs": [
    {
     "data": {
      "text/plain": [
       "array([0., 0., 0., 0., 0.])"
      ]
     },
     "execution_count": 4,
     "metadata": {},
     "output_type": "execute_result"
    }
   ],
   "source": [
    "b = np.zeros(5)\n",
    "b"
   ]
  },
  {
   "cell_type": "markdown",
   "id": "38818d6d",
   "metadata": {},
   "source": [
    "3. Replace the fourth value of $\\pmb b$ with $1$"
   ]
  },
  {
   "cell_type": "code",
   "execution_count": 5,
   "id": "86416b4d",
   "metadata": {},
   "outputs": [
    {
     "data": {
      "text/plain": [
       "array([0., 0., 0., 1., 0.])"
      ]
     },
     "execution_count": 5,
     "metadata": {},
     "output_type": "execute_result"
    }
   ],
   "source": [
    "b[3] = 1\n",
    "b"
   ]
  },
  {
   "cell_type": "markdown",
   "id": "b9a60132",
   "metadata": {},
   "source": [
    "4. Compute $\\pmb a \\cdot \\pmb b$"
   ]
  },
  {
   "cell_type": "code",
   "execution_count": 6,
   "id": "c152368a",
   "metadata": {},
   "outputs": [
    {
     "data": {
      "text/plain": [
       "0.782101975379373"
      ]
     },
     "execution_count": 6,
     "metadata": {},
     "output_type": "execute_result"
    }
   ],
   "source": [
    "np.dot(a, b)"
   ]
  },
  {
   "cell_type": "code",
   "execution_count": 7,
   "id": "fa7a0f50",
   "metadata": {},
   "outputs": [
    {
     "data": {
      "text/plain": [
       "0.782101975379373"
      ]
     },
     "execution_count": 7,
     "metadata": {},
     "output_type": "execute_result"
    }
   ],
   "source": [
    "a.dot(b)"
   ]
  },
  {
   "cell_type": "markdown",
   "id": "811dded4",
   "metadata": {},
   "source": [
    "5. Compute the norm of $\\pmb a$"
   ]
  },
  {
   "cell_type": "code",
   "execution_count": 8,
   "id": "10adcc01",
   "metadata": {},
   "outputs": [
    {
     "data": {
      "text/plain": [
       "2.4721673095964602"
      ]
     },
     "execution_count": 8,
     "metadata": {},
     "output_type": "execute_result"
    }
   ],
   "source": [
    "L1_a = np.linalg.norm(a, 1)\n",
    "L1_a"
   ]
  },
  {
   "cell_type": "code",
   "execution_count": 9,
   "id": "35a28d01",
   "metadata": {},
   "outputs": [
    {
     "data": {
      "text/plain": [
       "1.2510651395010015"
      ]
     },
     "execution_count": 9,
     "metadata": {},
     "output_type": "execute_result"
    }
   ],
   "source": [
    "L2_a = np.linalg.norm(a, 2)\n",
    "L2_a"
   ]
  },
  {
   "cell_type": "markdown",
   "id": "c6950f1a",
   "metadata": {},
   "source": [
    "6. Create a $5 \\times 5$ identity matrix $\\pmb A \\in \\mathbb R^{5 \\times 5}$"
   ]
  },
  {
   "cell_type": "code",
   "execution_count": 10,
   "id": "e4dbca68",
   "metadata": {},
   "outputs": [
    {
     "data": {
      "text/plain": [
       "array([[1., 0., 0., 0., 0.],\n",
       "       [0., 1., 0., 0., 0.],\n",
       "       [0., 0., 1., 0., 0.],\n",
       "       [0., 0., 0., 1., 0.],\n",
       "       [0., 0., 0., 0., 1.]])"
      ]
     },
     "execution_count": 10,
     "metadata": {},
     "output_type": "execute_result"
    }
   ],
   "source": [
    "A = np.eye(5)\n",
    "A"
   ]
  },
  {
   "cell_type": "markdown",
   "id": "df9e463f",
   "metadata": {},
   "source": [
    "7. Replace the 1 values in $\\pmb A$ by 3s"
   ]
  },
  {
   "cell_type": "code",
   "execution_count": 11,
   "id": "bb83c77d",
   "metadata": {},
   "outputs": [
    {
     "data": {
      "text/plain": [
       "array([[3., 0., 0., 0., 0.],\n",
       "       [0., 3., 0., 0., 0.],\n",
       "       [0., 0., 3., 0., 0.],\n",
       "       [0., 0., 0., 3., 0.],\n",
       "       [0., 0., 0., 0., 3.]])"
      ]
     },
     "execution_count": 11,
     "metadata": {},
     "output_type": "execute_result"
    }
   ],
   "source": [
    "A[A == 1] = 3\n",
    "A"
   ]
  },
  {
   "cell_type": "markdown",
   "id": "0eb7416d",
   "metadata": {},
   "source": [
    "8. Create a $2 \\times 5$ matrix that is composed of Gaussian random samples $\\pmb B \\in \\mathbb R^{2 \\times 5}$ (check numpy documentation for a relevant function that creates gaussian samples)"
   ]
  },
  {
   "cell_type": "code",
   "execution_count": 12,
   "id": "910f9a01",
   "metadata": {},
   "outputs": [
    {
     "data": {
      "text/plain": [
       "array([[ 0.03742873, -1.0552996 ,  1.26267016,  2.80430004, -0.95770349],\n",
       "       [-0.76558436,  0.01040004,  1.81799602,  0.08745514,  1.57195947]])"
      ]
     },
     "execution_count": 12,
     "metadata": {},
     "output_type": "execute_result"
    }
   ],
   "source": [
    "B = np.random.normal(0, 1, size=(2, 5)) # with mean 0 and standard deviation 1\n",
    "B"
   ]
  },
  {
   "cell_type": "code",
   "execution_count": 13,
   "id": "d23be14a",
   "metadata": {},
   "outputs": [
    {
     "data": {
      "text/plain": [
       "ShapiroResult(statistic=0.9213145413822582, pvalue=0.3680493360216392)"
      ]
     },
     "execution_count": 13,
     "metadata": {},
     "output_type": "execute_result"
    }
   ],
   "source": [
    "from scipy.stats import shapiro\n",
    "\n",
    "flatten_B = B.flatten()\n",
    "\n",
    "shapiro(flatten_B)"
   ]
  },
  {
   "cell_type": "markdown",
   "id": "b3d168d1",
   "metadata": {},
   "source": [
    "9. Compute the matrix product $A B^T$"
   ]
  },
  {
   "cell_type": "code",
   "execution_count": 14,
   "id": "c6eb039e",
   "metadata": {},
   "outputs": [
    {
     "data": {
      "text/plain": [
       "array([[ 0.11228618, -2.29675308],\n",
       "       [-3.16589881,  0.03120011],\n",
       "       [ 3.78801049,  5.45398807],\n",
       "       [ 8.41290012,  0.26236541],\n",
       "       [-2.87311046,  4.71587841]])"
      ]
     },
     "execution_count": 14,
     "metadata": {},
     "output_type": "execute_result"
    }
   ],
   "source": [
    "np.dot(A, B.T)"
   ]
  },
  {
   "cell_type": "markdown",
   "id": "f12696b0",
   "metadata": {},
   "source": [
    "## Part 2 (24 pts)"
   ]
  },
  {
   "cell_type": "markdown",
   "id": "77e05a3d",
   "metadata": {},
   "source": [
    "1. Create a `numpy` array (vector) of 30 evenly spaced items between 2 and 20 using the relevant numpy method.\n",
    "\n",
    "Output: `array([ 2.        ,  2.62068966,  3.24137931,  3.86206897,  4.48275862,\n",
    "        5.10344828,  5.72413793,  6.34482759,  6.96551724,  7.5862069 ,\n",
    "        8.20689655,  8.82758621,  9.44827586, 10.06896552, 10.68965517,\n",
    "       11.31034483, 11.93103448, 12.55172414, 13.17241379, 13.79310345,\n",
    "       14.4137931 , 15.03448276, 15.65517241, 16.27586207, 16.89655172,\n",
    "       17.51724138, 18.13793103, 18.75862069, 19.37931034, 20.        ])`\n"
   ]
  },
  {
   "cell_type": "code",
   "execution_count": 15,
   "id": "0a63b8f6",
   "metadata": {},
   "outputs": [
    {
     "data": {
      "text/plain": [
       "array([ 2.        ,  2.62068966,  3.24137931,  3.86206897,  4.48275862,\n",
       "        5.10344828,  5.72413793,  6.34482759,  6.96551724,  7.5862069 ,\n",
       "        8.20689655,  8.82758621,  9.44827586, 10.06896552, 10.68965517,\n",
       "       11.31034483, 11.93103448, 12.55172414, 13.17241379, 13.79310345,\n",
       "       14.4137931 , 15.03448276, 15.65517241, 16.27586207, 16.89655172,\n",
       "       17.51724138, 18.13793103, 18.75862069, 19.37931034, 20.        ])"
      ]
     },
     "execution_count": 15,
     "metadata": {},
     "output_type": "execute_result"
    }
   ],
   "source": [
    "np.linspace(2, 20, 30)"
   ]
  },
  {
   "cell_type": "markdown",
   "id": "b4f99234",
   "metadata": {},
   "source": [
    "2. Let x be a `numpy` array `[[1, 2, 3], [4, 5, 6]]`. Convert it to `[1 4 2 5 3 6]`."
   ]
  },
  {
   "cell_type": "code",
   "execution_count": 16,
   "id": "fe2e0129",
   "metadata": {},
   "outputs": [
    {
     "data": {
      "text/plain": [
       "array([1, 4, 2, 5, 3, 6])"
      ]
     },
     "execution_count": 16,
     "metadata": {},
     "output_type": "execute_result"
    }
   ],
   "source": [
    "x = np.array([[1, 2, 3], [4, 5, 6]])\n",
    "x.flatten(order='F')"
   ]
  },
  {
   "cell_type": "markdown",
   "id": "301bc504",
   "metadata": {},
   "source": [
    "3. Create a random `numpy` array $\\pmb x$ of shape $3 \\times 4$. Permute the dimensions of $\\pmb x$ such that the new shape will be $4 \\times 3$."
   ]
  },
  {
   "cell_type": "code",
   "execution_count": 17,
   "id": "242d8eb3",
   "metadata": {},
   "outputs": [
    {
     "data": {
      "text/plain": [
       "(3, 4)"
      ]
     },
     "execution_count": 17,
     "metadata": {},
     "output_type": "execute_result"
    }
   ],
   "source": [
    "x = np.random.rand(3, 4)\n",
    "x.shape"
   ]
  },
  {
   "cell_type": "code",
   "execution_count": 18,
   "id": "3e0e1287",
   "metadata": {},
   "outputs": [],
   "source": [
    "x = x.reshape(4,3)"
   ]
  },
  {
   "cell_type": "code",
   "execution_count": 19,
   "id": "1e516df3",
   "metadata": {},
   "outputs": [
    {
     "data": {
      "text/plain": [
       "(4, 3)"
      ]
     },
     "execution_count": 19,
     "metadata": {},
     "output_type": "execute_result"
    }
   ],
   "source": [
    "x.shape"
   ]
  },
  {
   "cell_type": "markdown",
   "id": "8ea6777c",
   "metadata": {},
   "source": [
    "4. Create a random `numpy` array $\\pmb x$ of shape $3 \\times 4$. Permute the dimensions of $\\pmb x$ such that the new shape will be $4 \\times 1 \\times 3$."
   ]
  },
  {
   "cell_type": "code",
   "execution_count": 20,
   "id": "b38e2489",
   "metadata": {},
   "outputs": [
    {
     "data": {
      "text/plain": [
       "array([[0.86212084, 0.91638435, 0.70165256, 0.86701058],\n",
       "       [0.93259556, 0.13078605, 0.20120607, 0.53609563],\n",
       "       [0.71359485, 0.37572608, 0.84319373, 0.9947905 ]])"
      ]
     },
     "execution_count": 20,
     "metadata": {},
     "output_type": "execute_result"
    }
   ],
   "source": [
    "x = np.random.rand(3, 4)\n",
    "x"
   ]
  },
  {
   "cell_type": "code",
   "execution_count": 21,
   "id": "e45afe37",
   "metadata": {},
   "outputs": [
    {
     "data": {
      "text/plain": [
       "(4, 1, 3)"
      ]
     },
     "execution_count": 21,
     "metadata": {},
     "output_type": "execute_result"
    }
   ],
   "source": [
    "x1 = np.expand_dims(x.T, axis=1)\n",
    "x1.shape"
   ]
  },
  {
   "cell_type": "code",
   "execution_count": 22,
   "id": "5aadd07e",
   "metadata": {},
   "outputs": [
    {
     "data": {
      "text/plain": [
       "array([[[0.86212084, 0.93259556, 0.71359485]],\n",
       "\n",
       "       [[0.91638435, 0.13078605, 0.37572608]],\n",
       "\n",
       "       [[0.70165256, 0.20120607, 0.84319373]],\n",
       "\n",
       "       [[0.86701058, 0.53609563, 0.9947905 ]]])"
      ]
     },
     "execution_count": 22,
     "metadata": {},
     "output_type": "execute_result"
    }
   ],
   "source": [
    "x1"
   ]
  },
  {
   "cell_type": "code",
   "execution_count": 23,
   "id": "94cfd9c9",
   "metadata": {},
   "outputs": [
    {
     "data": {
      "text/plain": [
       "(4, 1, 3)"
      ]
     },
     "execution_count": 23,
     "metadata": {},
     "output_type": "execute_result"
    }
   ],
   "source": [
    "x2 = x.reshape((4, 1, 3))\n",
    "x2.shape"
   ]
  },
  {
   "cell_type": "code",
   "execution_count": 24,
   "id": "9288a819",
   "metadata": {},
   "outputs": [
    {
     "data": {
      "text/plain": [
       "array([[[0.86212084, 0.91638435, 0.70165256]],\n",
       "\n",
       "       [[0.86701058, 0.93259556, 0.13078605]],\n",
       "\n",
       "       [[0.20120607, 0.53609563, 0.71359485]],\n",
       "\n",
       "       [[0.37572608, 0.84319373, 0.9947905 ]]])"
      ]
     },
     "execution_count": 24,
     "metadata": {},
     "output_type": "execute_result"
    }
   ],
   "source": [
    "x2"
   ]
  },
  {
   "cell_type": "markdown",
   "id": "64aa59c2",
   "metadata": {},
   "source": [
    "## Part 3 (40 pts)"
   ]
  },
  {
   "cell_type": "markdown",
   "id": "0a7eca25",
   "metadata": {},
   "source": [
    "1. Define the following $\\mathbb R^{8 \\times 2}$ matrix as a numpy 2-D array\n",
    "\n",
    "$$\\pmb X = \\begin{bmatrix} 0 & 1 \\\\ 5 & 1 \\\\ 15 & 2 \\\\ 25 & 5 \\\\ 35 & 11 \\\\ 45 & 15 \\\\ 55 & 34 \\\\ 60 & 35 \\end{bmatrix}$$\n",
    "\n",
    "Consider this as a dataset of 2 features. Each row in this data is one observation of each feature."
   ]
  },
  {
   "cell_type": "code",
   "execution_count": 25,
   "id": "030de447",
   "metadata": {},
   "outputs": [],
   "source": [
    "X = np.array([\n",
    "    [0, 1],\n",
    "    [5, 1],\n",
    "    [15, 2],\n",
    "    [25, 5],\n",
    "    [35, 11],\n",
    "    [45, 15],\n",
    "    [55, 34],\n",
    "    [60, 35]\n",
    "])"
   ]
  },
  {
   "cell_type": "markdown",
   "id": "4698c259",
   "metadata": {},
   "source": [
    "2. Define the following $\\mathbb R^8$ vector as a 1-D numpy array\n",
    "\n",
    "$$\\pmb y = \\begin{bmatrix}4 \\\\ 5 \\\\ 20 \\\\ 14 \\\\ 32 \\\\ 22 \\\\ 38 \\\\ 43 \\end{bmatrix}$$\n",
    "\n",
    "Consider this as a dataset of target values that you want to predict."
   ]
  },
  {
   "cell_type": "code",
   "execution_count": 26,
   "id": "60be6577",
   "metadata": {},
   "outputs": [],
   "source": [
    "y = np.array([4, 5, 20, 14, 32, 22, 38, 43])"
   ]
  },
  {
   "cell_type": "markdown",
   "id": "391ee8dc",
   "metadata": {},
   "source": [
    "3. Compute the product\n",
    "\n",
    "$$ \\pmb X^T \\pmb y$$\n",
    "\n",
    "> Note:  check how to compute transpose of a matrix $\\pmb X^T$ \n",
    "> Note: note that you are making matrix multiplication, not element-wise multiplication"
   ]
  },
  {
   "cell_type": "code",
   "execution_count": 27,
   "id": "bf91a839",
   "metadata": {},
   "outputs": [
    {
     "data": {
      "text/plain": [
       "array([7455, 3598])"
      ]
     },
     "execution_count": 27,
     "metadata": {},
     "output_type": "execute_result"
    }
   ],
   "source": [
    "np.dot(X.T, y)"
   ]
  },
  {
   "cell_type": "markdown",
   "id": "8c81befc",
   "metadata": {},
   "source": [
    "4. Compute\n",
    "\n",
    "$$(\\pmb X^T \\pmb X)^{-1}$$\n",
    "\n",
    "> Note:  check how to compute inverse of a matrix in numpy\n",
    "\n",
    "> Note: note that you are making matrix multiplication, not element-wise multiplication\n",
    "\n"
   ]
  },
  {
   "cell_type": "code",
   "execution_count": 28,
   "id": "bca0ee79",
   "metadata": {},
   "outputs": [
    {
     "data": {
      "text/plain": [
       "array([[ 0.00101681, -0.00191343],\n",
       "       [-0.00191343,  0.00396328]])"
      ]
     },
     "execution_count": 28,
     "metadata": {},
     "output_type": "execute_result"
    }
   ],
   "source": [
    "XTX_inv = np.linalg.inv(np.dot(X.T, X))\n",
    "XTX_inv"
   ]
  },
  {
   "cell_type": "markdown",
   "id": "eed3918e",
   "metadata": {},
   "source": [
    "5. Compute $$\\beta = (\\pmb X^T \\pmb X)^{-1} \\pmb X^T \\pmb y$$"
   ]
  },
  {
   "cell_type": "code",
   "execution_count": 29,
   "id": "df9475d0",
   "metadata": {},
   "outputs": [
    {
     "data": {
      "text/plain": [
       "array([ 0.69579339, -0.00477437])"
      ]
     },
     "execution_count": 29,
     "metadata": {},
     "output_type": "execute_result"
    }
   ],
   "source": [
    "beta = np.dot(np.dot(XTX_inv, X.T), y)\n",
    "beta"
   ]
  },
  {
   "cell_type": "markdown",
   "id": "89a75260",
   "metadata": {},
   "source": [
    "\n",
    "As a result you should get an 1-D array of 2 elements. If you find it, congratulations, you just applied your first machine learning algorithm, i.e. the least squares estimates for linear regression!"
   ]
  },
  {
   "cell_type": "code",
   "execution_count": 30,
   "id": "e6eb7a88",
   "metadata": {},
   "outputs": [
    {
     "data": {
      "text/plain": [
       "array([ 0.69579339, -0.00477437])"
      ]
     },
     "execution_count": 30,
     "metadata": {},
     "output_type": "execute_result"
    }
   ],
   "source": [
    "np.linalg.inv(X.T @ X) @ X.T @ y"
   ]
  }
 ],
 "metadata": {
  "kernelspec": {
   "display_name": "Python 3",
   "language": "python",
   "name": "python3"
  },
  "language_info": {
   "codemirror_mode": {
    "name": "ipython",
    "version": 3
   },
   "file_extension": ".py",
   "mimetype": "text/x-python",
   "name": "python",
   "nbconvert_exporter": "python",
   "pygments_lexer": "ipython3",
   "version": "3.11.8"
  }
 },
 "nbformat": 4,
 "nbformat_minor": 5
}
